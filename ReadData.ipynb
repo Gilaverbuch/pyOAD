{
 "cells": [
  {
   "cell_type": "code",
   "execution_count": 1,
   "id": "fbeb429c",
   "metadata": {},
   "outputs": [],
   "source": [
    "import matplotlib.pyplot as plt\n",
    "plt.rcParams['font.size'] = '16'\n",
    "plt.rcParams['figure.dpi'] = 125\n",
    "plt.rcParams['figure.facecolor'] = 'white'\n",
    "\n",
    "import numpy as np\n",
    "from obspy import read\n",
    "from src.pyoad.pyoad import read_data_24bit, save2mseed\n",
    "# from pyoad import read_data_24bit, save2mseed"
   ]
  },
  {
   "cell_type": "code",
   "execution_count": null,
   "id": "d3cbd536",
   "metadata": {
    "scrolled": false
   },
   "outputs": [
    {
     "name": "stdout",
     "output_type": "stream",
     "text": [
      "Reading waveforms...\n"
     ]
    },
    {
     "name": "stderr",
     "output_type": "stream",
     "text": [
      " 17%|███████▌                                     | 1/6 [00:01<00:08,  1.65s/it]"
     ]
    }
   ],
   "source": [
    "file_name = '/Users/gilaverbuch/dev/SHRU_programs/SHRU_24bit/05140537.D21'\n",
    "records_range = np.arange(4,10,1)\n",
    "header_df, waveforms = read_data_24bit(file_name, records_range)\n",
    "\n",
    "save2mseed(waveforms)"
   ]
  },
  {
   "cell_type": "code",
   "execution_count": null,
   "id": "7b1c1c33",
   "metadata": {},
   "outputs": [],
   "source": [
    "print(header_df)\n",
    "print(waveforms)"
   ]
  },
  {
   "cell_type": "code",
   "execution_count": null,
   "id": "a46b4a56",
   "metadata": {},
   "outputs": [],
   "source": [
    "waveforms.plot();"
   ]
  },
  {
   "cell_type": "code",
   "execution_count": null,
   "id": "0d208c97",
   "metadata": {
    "scrolled": false
   },
   "outputs": [],
   "source": [
    "fig = waveforms[0].spectrogram(wlen=1, per_lap=0.5, log=True, dbscale=True, show=False);\n",
    "fig.set_figheight(8)\n",
    "fig.set_figwidth(15)\n",
    "plt.ylim(1e1, 1e4)\n",
    "# plt.xlim(20,30)\n",
    "plt.show()"
   ]
  },
  {
   "cell_type": "code",
   "execution_count": null,
   "id": "ddad58b5",
   "metadata": {},
   "outputs": [],
   "source": [
    "waveforms2 = waveforms.copy()\n",
    "waveforms2.merge(method=1, interpolation_samples=0)"
   ]
  },
  {
   "cell_type": "code",
   "execution_count": null,
   "id": "cdca8024",
   "metadata": {},
   "outputs": [],
   "source": [
    "fig = waveforms2[3].spectrogram(wlen=1, per_lap=0.5, log=True, dbscale=True, show=False);\n",
    "fig.set_figheight(8)\n",
    "fig.set_figwidth(15)\n",
    "plt.ylim(1e1, 1e4)\n",
    "# plt.xlim(20,30)\n",
    "plt.show()"
   ]
  },
  {
   "cell_type": "code",
   "execution_count": null,
   "id": "a3a87fc8",
   "metadata": {},
   "outputs": [],
   "source": [
    "test = read('Results/2021/SR905/CHN01/SR905.CHN01..FDH.2021.134.5.37.58')\n",
    "fig = test[0].spectrogram(wlen=1, per_lap=0.5, log=True, dbscale=True, show=False);\n",
    "fig.set_figheight(8)\n",
    "fig.set_figwidth(15)\n",
    "plt.ylim(1e1, 1e4)\n",
    "# plt.xlim(20,30)\n",
    "plt.show()"
   ]
  },
  {
   "cell_type": "code",
   "execution_count": null,
   "id": "3345fb81",
   "metadata": {},
   "outputs": [],
   "source": []
  },
  {
   "cell_type": "code",
   "execution_count": null,
   "id": "ade55034",
   "metadata": {},
   "outputs": [],
   "source": []
  },
  {
   "cell_type": "code",
   "execution_count": null,
   "id": "ed970c12",
   "metadata": {},
   "outputs": [],
   "source": []
  },
  {
   "cell_type": "markdown",
   "id": "4e586ff0",
   "metadata": {},
   "source": [
    "# Data from YT's matlab code"
   ]
  },
  {
   "cell_type": "code",
   "execution_count": null,
   "id": "7d3eaf76",
   "metadata": {},
   "outputs": [],
   "source": [
    "tr_rec1 = waveforms[0].copy() \n",
    "tr_rec2 = waveforms[1].copy()\n",
    "tr_rec3 = waveforms[2].copy()\n",
    "\n",
    "tr_ch1_rec2 = waveforms[4].copy()"
   ]
  },
  {
   "cell_type": "code",
   "execution_count": null,
   "id": "b2b5b67a",
   "metadata": {},
   "outputs": [],
   "source": [
    "samp_freq = 19531.25\n",
    "dt = 1/samp_freq\n",
    "time_p = np.arange(0, tr_rec1.stats.npts*dt, dt)"
   ]
  },
  {
   "cell_type": "code",
   "execution_count": null,
   "id": "23052f7e",
   "metadata": {},
   "outputs": [],
   "source": [
    "matlab_channel1_rec1 = np.loadtxt('/Users/gilaverbuch/dev/SHRU_programs/SHRU_24bit/channel1_rec1.scv')\n",
    "matlab_channel2_rec1 = np.loadtxt('/Users/gilaverbuch/dev/SHRU_programs/SHRU_24bit/channel2_rec1.scv')\n",
    "matlab_channel3_rec1 = np.loadtxt('/Users/gilaverbuch/dev/SHRU_programs/SHRU_24bit/channel3_rec1.scv')\n",
    "\n",
    "matlab_channel1_rec2 = np.loadtxt('/Users/gilaverbuch/dev/SHRU_programs/SHRU_24bit/channel1_rec2.scv')\n",
    "\n",
    "# Header = read_header()"
   ]
  },
  {
   "cell_type": "code",
   "execution_count": null,
   "id": "102c7697",
   "metadata": {},
   "outputs": [],
   "source": [
    "len(matlab_channel1_rec1), len(tr_rec1.data)"
   ]
  },
  {
   "cell_type": "code",
   "execution_count": null,
   "id": "aac249eb",
   "metadata": {},
   "outputs": [],
   "source": [
    "samp_freq = 19531.25\n",
    "dt = 1/samp_freq\n",
    "time_m = np.arange(0, len(matlab_channel1_rec2)*dt, dt)\n",
    "\n",
    "\n",
    "plt.figure(figsize = (15,5))\n",
    "plt.plot(time_m, matlab_channel1_rec2, 'r')\n",
    "plt.plot(time_p, tr_ch1_rec2.data, 'g')\n",
    "\n",
    "# plt.plot(time_m, matlab_channel1_rec1, 'r')\n",
    "# plt.plot(time_p, tr_rec1.data, 'g')\n",
    "plt.xlim(20,20.1)\n",
    "plt.ylim(-2e5, 2e5)\n",
    "plt.show()"
   ]
  },
  {
   "cell_type": "code",
   "execution_count": null,
   "id": "9e06c4d0",
   "metadata": {},
   "outputs": [],
   "source": [
    "(2.5/(2**23)/20)"
   ]
  },
  {
   "cell_type": "code",
   "execution_count": null,
   "id": "2c52f86d",
   "metadata": {},
   "outputs": [],
   "source": [
    "sensitivity/3.1623e+08"
   ]
  },
  {
   "cell_type": "code",
   "execution_count": null,
   "id": "de6df485",
   "metadata": {},
   "outputs": [],
   "source": []
  },
  {
   "cell_type": "code",
   "execution_count": null,
   "id": "5b20807e",
   "metadata": {},
   "outputs": [],
   "source": []
  },
  {
   "cell_type": "code",
   "execution_count": null,
   "id": "4a1c12c3",
   "metadata": {},
   "outputs": [],
   "source": [
    "\n",
    "f, t, Sxx = signal.spectrogram(matlab_channel, samp_freq, nperseg=int(samp_freq), noverlap=int(samp_freq//2))\n",
    "plt.figure(figsize=(10,5))\n",
    "plt.pcolormesh(t, f, Sxx, shading='gouraud')\n",
    "plt.ylabel('Frequency [Hz]')\n",
    "plt.xlabel('Time [sec]')\n",
    "# plt.xlim(10,20)\n",
    "plt.ylim(0,200)\n",
    "plt.clim(0,1e-9)\n",
    "plt.colorbar()\n",
    "plt.title('from matlab')\n",
    "plt.show()"
   ]
  },
  {
   "cell_type": "code",
   "execution_count": null,
   "id": "27cb5f61",
   "metadata": {
    "scrolled": false
   },
   "outputs": [],
   "source": [
    "samp_freq = 19531.25\n",
    "dt = 1/samp_freq\n",
    "time_m = np.arange(0, len(matlab_channel)*dt, dt)\n",
    "\n",
    "plt.figure(figsize = (15,5))\n",
    "plt.plot(time_m, matlab_channel*1e-4, 'r')\n",
    "\n",
    "plt.show()"
   ]
  },
  {
   "cell_type": "code",
   "execution_count": null,
   "id": "aee8f263",
   "metadata": {
    "scrolled": false
   },
   "outputs": [],
   "source": [
    "samp_freq = 19531.25\n",
    "dt = 1/samp_freq\n",
    "time_p = np.arange(0, len(channel1)*dt, dt)\n",
    "\n",
    "plt.figure(figsize = (15,5))\n",
    "plt.plot(time_p, channel1, 'g')\n",
    "# plt.plot(time_p, channel2*2.5e2, 'r')\n",
    "# plt.xlim(5.8,6)\n",
    "plt.show()"
   ]
  },
  {
   "cell_type": "code",
   "execution_count": null,
   "id": "47ea7d0a",
   "metadata": {},
   "outputs": [],
   "source": [
    "channel1 = np.asarray(channel1, dtype=np.float32)"
   ]
  },
  {
   "cell_type": "code",
   "execution_count": null,
   "id": "1e90e8c8",
   "metadata": {},
   "outputs": [],
   "source": [
    "len(matlab_channel) / len(channel1)"
   ]
  },
  {
   "cell_type": "code",
   "execution_count": null,
   "id": "b809981a",
   "metadata": {},
   "outputs": [],
   "source": [
    "start = time.time()\n",
    "\n",
    "channel1 = get_data(x, pos, l)\n",
    "\n",
    "end  = time.time()\n",
    "print (\"Time elapsed:\", end - start)"
   ]
  },
  {
   "cell_type": "code",
   "execution_count": null,
   "id": "d0018775",
   "metadata": {},
   "outputs": [],
   "source": [
    "pos = 1024\n",
    "l = (len(x[1024:])//128)\n",
    "npts = 1048576\n",
    "\n",
    "l1 = l*0\n",
    "l2 = l1+l\n",
    "def get_data(x, pos, l):\n",
    "    \n",
    "    data=[]\n",
    "    for loc in range(l1+pos,l2, 12):\n",
    "    \n",
    "        d = bytearray(x[loc:loc+3])\n",
    "        d.append(0)\n",
    "        dpoint = int.from_bytes(d, byteorder='big', signed=True) * (2.5/(2**23)/20)\n",
    "        data.append(dpoint)\n",
    "    \n",
    "    return data\n",
    "    \n",
    "    "
   ]
  },
  {
   "cell_type": "code",
   "execution_count": null,
   "id": "1fd221a0",
   "metadata": {},
   "outputs": [],
   "source": [
    "xs = bytearray(b'\\x00\\x1b\\xcf')\n",
    "xs.append(0)\n",
    "print(xs)\n",
    "struct.unpack('>i', b'\\x00\\x1b\\xcf\\x00')[0], int.from_bytes(xs, byteorder='big', signed=True)"
   ]
  }
 ],
 "metadata": {
  "kernelspec": {
   "display_name": "Python 3 (ipykernel)",
   "language": "python",
   "name": "python3"
  },
  "language_info": {
   "codemirror_mode": {
    "name": "ipython",
    "version": 3
   },
   "file_extension": ".py",
   "mimetype": "text/x-python",
   "name": "python",
   "nbconvert_exporter": "python",
   "pygments_lexer": "ipython3",
   "version": "3.10.6"
  }
 },
 "nbformat": 4,
 "nbformat_minor": 5
}
