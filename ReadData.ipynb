{
 "cells": [
  {
   "cell_type": "code",
   "execution_count": 4,
   "id": "fbeb429c",
   "metadata": {},
   "outputs": [],
   "source": [
    "import matplotlib.pyplot as plt\n",
    "plt.rcParams['font.size'] = '16'\n",
    "plt.rcParams['figure.dpi'] = 125\n",
    "plt.rcParams['figure.facecolor'] = 'white'\n",
    "\n",
    "import numpy as np\n",
    "import math\n",
    "from math import exp,pi\n",
    "import struct, os\n"
   ]
  },
  {
   "cell_type": "code",
   "execution_count": 5,
   "id": "d3cbd536",
   "metadata": {},
   "outputs": [],
   "source": [
    "# from src.pyoad.pyoad import read_data\n",
    "# header = read_data('/Users/gilaverbuch/dev/SHRU_programs/SHRU_24bit/05140537.D21')"
   ]
  },
  {
   "cell_type": "code",
   "execution_count": null,
   "id": "27cb5f61",
   "metadata": {
    "scrolled": true
   },
   "outputs": [],
   "source": []
  },
  {
   "cell_type": "code",
   "execution_count": null,
   "id": "23052f7e",
   "metadata": {},
   "outputs": [],
   "source": [
    "file_name = '/Users/gilaverbuch/dev/SHRU_programs/SHRU_24bit/05140537.D21'\n",
    "matlab_channel = np.loadtxt('/Users/gilaverbuch/dev/SHRU_programs/SHRU_24bit/channel1.scv')\n",
    "# Header = read_header()"
   ]
  },
  {
   "cell_type": "code",
   "execution_count": null,
   "id": "788a5e00",
   "metadata": {},
   "outputs": [],
   "source": [
    "f_data = open(file_name, \"rb\")  # reopen the file\n",
    "x = f_data.read()"
   ]
  },
  {
   "cell_type": "code",
   "execution_count": null,
   "id": "1fd221a0",
   "metadata": {},
   "outputs": [],
   "source": [
    "xs = bytearray(b'\\x00\\x1b\\xcf')\n",
    "xs.append(0)\n",
    "print(xs)\n",
    "struct.unpack('>i', b'\\x00\\x1b\\xcf\\x00')[0], int.from_bytes(xs, byteorder='big', signed=True)"
   ]
  },
  {
   "cell_type": "code",
   "execution_count": null,
   "id": "b809981a",
   "metadata": {},
   "outputs": [],
   "source": [
    "pos = 1024\n",
    "l = (len(x[1024:])//128)\n",
    "npts = 1048576\n",
    "\n",
    "chanel1 = np.empty(0, dtype = np.float32)\n",
    "chanel2 = np.empty(0, dtype = np.float32)\n",
    "chanel3 = np.empty(0, dtype = np.float32)\n",
    "chanel4 = np.empty(0, dtype = np.float32)\n",
    "for i in range(0,l//10, 12):\n",
    "    pos = pos+i\n",
    "    d = bytearray(x[pos:pos+3])\n",
    "    d.append(0)\n",
    "    dpoint = int.from_bytes(d, byteorder='big', signed=True) * (2.5/(2**23)/20)\n",
    "    chanel1 = np.append(chanel1, dpoint)\n",
    "#     print(i, d)\n",
    "#     try:\n",
    "#         dpoint = struct.unpack('>i', d)[0] * (2.5/(2**23)/20)\n",
    "        \n",
    "#         chanel1 = np.append(chanel1, dpoint)\n",
    "#     except:\n",
    "#         pass\n",
    "    \n"
   ]
  },
  {
   "cell_type": "code",
   "execution_count": null,
   "id": "9bc23dc1",
   "metadata": {},
   "outputs": [],
   "source": [
    "samp_freq = 19531.25\n",
    "dt = 1/samp_freq\n",
    "time_p = np.arange(0, len(chanel1)*dt, dt)\n",
    "time_m = np.arange(0, len(matlab_channel)*dt, dt)\n",
    "\n",
    "plt.figure(figsize = (15,5))\n",
    "plt.plot(time_p, chanel1, 'g')\n",
    "plt.plot(time_m, matlab_channel*1e-4, 'r')\n",
    "\n",
    "plt.xlim(0.1, 1)\n",
    "plt.show()"
   ]
  },
  {
   "cell_type": "code",
   "execution_count": null,
   "id": "51be548f",
   "metadata": {},
   "outputs": [],
   "source": [
    "chanel1[100000:100010]"
   ]
  },
  {
   "cell_type": "code",
   "execution_count": null,
   "id": "198d4896",
   "metadata": {},
   "outputs": [],
   "source": []
  },
  {
   "cell_type": "code",
   "execution_count": null,
   "id": "cc0b7094",
   "metadata": {},
   "outputs": [],
   "source": []
  },
  {
   "cell_type": "code",
   "execution_count": null,
   "id": "ee3d3127",
   "metadata": {},
   "outputs": [],
   "source": [
    "import pyoad"
   ]
  },
  {
   "cell_type": "code",
   "execution_count": null,
   "id": "3f46e326",
   "metadata": {},
   "outputs": [],
   "source": []
  },
  {
   "cell_type": "code",
   "execution_count": null,
   "id": "e0f6bffc",
   "metadata": {},
   "outputs": [],
   "source": []
  },
  {
   "cell_type": "code",
   "execution_count": null,
   "id": "07f3ead5",
   "metadata": {},
   "outputs": [],
   "source": []
  },
  {
   "cell_type": "code",
   "execution_count": null,
   "id": "74c7937a",
   "metadata": {},
   "outputs": [],
   "source": []
  },
  {
   "cell_type": "code",
   "execution_count": null,
   "id": "c5a46517",
   "metadata": {},
   "outputs": [],
   "source": []
  },
  {
   "cell_type": "code",
   "execution_count": null,
   "id": "e1af88c1",
   "metadata": {},
   "outputs": [],
   "source": [
    "int.from_bytes(d, byteorder='big', signed=False) * (2.5/(2**23)/20)"
   ]
  },
  {
   "cell_type": "code",
   "execution_count": null,
   "id": "ed2d3975",
   "metadata": {},
   "outputs": [],
   "source": [
    "f_data = open(file_name, \"rb\")  # reopen the file\n",
    "# f_data.seek(D['reclen'][0], os.SEEK_SET)  # seek\n",
    "\n",
    "x = f_data.read()\n",
    "# x = np.fromfile(f_data, dtype='>u1')  # read the data into numpy"
   ]
  },
  {
   "cell_type": "code",
   "execution_count": null,
   "id": "2ef63855",
   "metadata": {},
   "outputs": [],
   "source": [
    "data = struct.unpack(\"i\" * ((len(x) -24) // 4), x[20:-4])"
   ]
  },
  {
   "cell_type": "code",
   "execution_count": null,
   "id": "c794dcb3",
   "metadata": {},
   "outputs": [],
   "source": [
    "len(data[1024:]) , len(chanel1)"
   ]
  },
  {
   "cell_type": "code",
   "execution_count": null,
   "id": "4e604ddf",
   "metadata": {},
   "outputs": [],
   "source": []
  },
  {
   "cell_type": "code",
   "execution_count": null,
   "id": "2c52f86d",
   "metadata": {},
   "outputs": [],
   "source": []
  },
  {
   "cell_type": "code",
   "execution_count": null,
   "id": "de6df485",
   "metadata": {},
   "outputs": [],
   "source": []
  }
 ],
 "metadata": {
  "kernelspec": {
   "display_name": "Python 3 (ipykernel)",
   "language": "python",
   "name": "python3"
  },
  "language_info": {
   "codemirror_mode": {
    "name": "ipython",
    "version": 3
   },
   "file_extension": ".py",
   "mimetype": "text/x-python",
   "name": "python",
   "nbconvert_exporter": "python",
   "pygments_lexer": "ipython3",
   "version": "3.10.4"
  }
 },
 "nbformat": 4,
 "nbformat_minor": 5
}
