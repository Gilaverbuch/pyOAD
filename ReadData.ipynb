{
 "cells": [
  {
   "cell_type": "code",
   "execution_count": 1,
   "id": "fbeb429c",
   "metadata": {},
   "outputs": [],
   "source": [
    "import matplotlib.pyplot as plt\n",
    "plt.rcParams['font.size'] = '16'\n",
    "plt.rcParams['figure.dpi'] = 125\n",
    "plt.rcParams['figure.facecolor'] = 'white'\n",
    "\n",
    "import numpy as np\n",
    "import struct, os\n",
    "import time\n",
    "import xarray as xr\n",
    "import pandas as pd\n",
    "\n",
    "import obspy\n",
    "from obspy import read_inventory, read, signal, UTCDateTime, Stream, Trace\n"
   ]
  },
  {
   "cell_type": "code",
   "execution_count": 2,
   "id": "d3cbd536",
   "metadata": {},
   "outputs": [
    {
     "ename": "TypeError",
     "evalue": "read_waveforms_() missing 1 required positional argument: 'header_df'",
     "output_type": "error",
     "traceback": [
      "\u001b[0;31m---------------------------------------------------------------------------\u001b[0m",
      "\u001b[0;31mTypeError\u001b[0m                                 Traceback (most recent call last)",
      "Input \u001b[0;32mIn [2]\u001b[0m, in \u001b[0;36m<cell line: 2>\u001b[0;34m()\u001b[0m\n\u001b[1;32m      1\u001b[0m \u001b[38;5;28;01mfrom\u001b[39;00m \u001b[38;5;21;01msrc\u001b[39;00m\u001b[38;5;21;01m.\u001b[39;00m\u001b[38;5;21;01mpyoad\u001b[39;00m\u001b[38;5;21;01m.\u001b[39;00m\u001b[38;5;21;01mpyoad\u001b[39;00m \u001b[38;5;28;01mimport\u001b[39;00m read_data\n\u001b[0;32m----> 2\u001b[0m header_df, waveforms \u001b[38;5;241m=\u001b[39m \u001b[43mread_data\u001b[49m\u001b[43m(\u001b[49m\u001b[38;5;124;43m'\u001b[39;49m\u001b[38;5;124;43m/Users/gilaverbuch/dev/SHRU_programs/SHRU_24bit/05140537.D21\u001b[39;49m\u001b[38;5;124;43m'\u001b[39;49m\u001b[43m)\u001b[49m\n",
      "File \u001b[0;32m~/dev/SignalProcessing/pyoad/src/pyoad/pyoad.py:52\u001b[0m, in \u001b[0;36mread_data\u001b[0;34m(file_name)\u001b[0m\n\u001b[1;32m     33\u001b[0m \u001b[38;5;124;03m'''\u001b[39;00m\n\u001b[1;32m     34\u001b[0m \u001b[38;5;124;03mThis function teads the data from a .D 24 bit binary file\u001b[39;00m\n\u001b[1;32m     35\u001b[0m \n\u001b[0;32m   (...)\u001b[0m\n\u001b[1;32m     46\u001b[0m \n\u001b[1;32m     47\u001b[0m \u001b[38;5;124;03m'''\u001b[39;00m\n\u001b[1;32m     51\u001b[0m Header \u001b[38;5;241m=\u001b[39m read_header(file_name)\n\u001b[0;32m---> 52\u001b[0m Waveforms \u001b[38;5;241m=\u001b[39m \u001b[43mread_waveforms\u001b[49m\u001b[43m(\u001b[49m\u001b[43mfile_name\u001b[49m\u001b[43m,\u001b[49m\u001b[43m \u001b[49m\u001b[43mHeader\u001b[49m\u001b[43m)\u001b[49m\n\u001b[1;32m     57\u001b[0m \u001b[38;5;28;01mreturn\u001b[39;00m Header, Waveforms\n",
      "File \u001b[0;32m~/dev/SignalProcessing/pyoad/src/pyoad/input/input.py:174\u001b[0m, in \u001b[0;36mread_waveforms\u001b[0;34m(file_name, header_df)\u001b[0m\n\u001b[1;32m    159\u001b[0m \u001b[38;5;28;01mdef\u001b[39;00m \u001b[38;5;21mread_waveforms\u001b[39m(file_name, header_df):\n\u001b[1;32m    160\u001b[0m     \u001b[38;5;124;03m'''\u001b[39;00m\n\u001b[1;32m    161\u001b[0m \u001b[38;5;124;03m    This function reads the waveforms of a SHRU 24bit .DXX acoustic binary file. \u001b[39;00m\n\u001b[1;32m    162\u001b[0m \u001b[38;5;124;03m    So far the functions reads only the first record of the first channel. \u001b[39;00m\n\u001b[0;32m   (...)\u001b[0m\n\u001b[1;32m    171\u001b[0m \u001b[38;5;124;03m    numpy array with the data\u001b[39;00m\n\u001b[1;32m    172\u001b[0m \u001b[38;5;124;03m    '''\u001b[39;00m\n\u001b[0;32m--> 174\u001b[0m     channel1, channel2, channel3, channel4 \u001b[38;5;241m=\u001b[39m \u001b[43mread_waveforms_\u001b[49m\u001b[43m(\u001b[49m\u001b[43mfile_name\u001b[49m\u001b[43m)\u001b[49m\n\u001b[1;32m    176\u001b[0m     tr_template \u001b[38;5;241m=\u001b[39m trace_template_(header_df)\n\u001b[1;32m    178\u001b[0m     tr1 \u001b[38;5;241m=\u001b[39m tr_template\u001b[38;5;241m.\u001b[39mcopy()\n",
      "\u001b[0;31mTypeError\u001b[0m: read_waveforms_() missing 1 required positional argument: 'header_df'"
     ]
    }
   ],
   "source": [
    "from src.pyoad.pyoad import read_data\n",
    "header_df, waveforms = read_data('/Users/gilaverbuch/dev/SHRU_programs/SHRU_24bit/05140537.D21')"
   ]
  },
  {
   "cell_type": "code",
   "execution_count": null,
   "id": "f2a8d1df",
   "metadata": {},
   "outputs": [],
   "source": [
    "test = [[None]*2]*3\n",
    "test"
   ]
  },
  {
   "cell_type": "code",
   "execution_count": null,
   "id": "e024fa09",
   "metadata": {},
   "outputs": [],
   "source": [
    "test[0:1].append(2)"
   ]
  },
  {
   "cell_type": "code",
   "execution_count": null,
   "id": "426c2b71",
   "metadata": {},
   "outputs": [],
   "source": [
    "test"
   ]
  },
  {
   "cell_type": "code",
   "execution_count": null,
   "id": "14db15ad",
   "metadata": {},
   "outputs": [],
   "source": [
    "int(header_df.loc['channels'].values)"
   ]
  },
  {
   "cell_type": "code",
   "execution_count": null,
   "id": "8c853162",
   "metadata": {},
   "outputs": [],
   "source": [
    "waveforms.plot();"
   ]
  },
  {
   "cell_type": "code",
   "execution_count": null,
   "id": "a84b4d6b",
   "metadata": {
    "scrolled": true
   },
   "outputs": [],
   "source": [
    "waveforms[2].stats"
   ]
  },
  {
   "cell_type": "code",
   "execution_count": null,
   "id": "2c9ed8dc",
   "metadata": {},
   "outputs": [],
   "source": [
    "fig = waveforms[1].spectrogram(wlen=1, per_lap=0.5, log=True, dbscale=True, show=False);\n",
    "fig.set_figheight(8)\n",
    "fig.set_figwidth(15)\n",
    "plt.show()"
   ]
  },
  {
   "cell_type": "code",
   "execution_count": null,
   "id": "4cfe2376",
   "metadata": {},
   "outputs": [],
   "source": [
    "tr = waveforms[3].copy()\n",
    "tr.filter('bandpass', freqmin=10,freqmax=100,  corners=4, zerophase=True)\n",
    "tr.plot();\n"
   ]
  },
  {
   "cell_type": "code",
   "execution_count": null,
   "id": "07d616f8",
   "metadata": {},
   "outputs": [],
   "source": [
    "print(waveforms[0])\n",
    "tr = waveforms[0].copy()\n",
    "tr.decimate(factor=2, strict_length=False)"
   ]
  },
  {
   "cell_type": "code",
   "execution_count": null,
   "id": "00d740c3",
   "metadata": {},
   "outputs": [],
   "source": [
    "tr = waveforms[0].copy()\n",
    "tr.filter('bandpass', freqmin=1e1,freqmax=8e2,  corners=4, zerophase=True)\n",
    "\n",
    "data_envelope = obspy.signal.filter.envelope(tr.data)"
   ]
  },
  {
   "cell_type": "code",
   "execution_count": null,
   "id": "e2dd88cb",
   "metadata": {},
   "outputs": [],
   "source": [
    "data = waveforms[0].data\n",
    "npts = waveforms[0].stats.npts\n",
    "samprate = waveforms[0].stats.sampling_rate\n",
    "t = np.arange(0, npts / samprate, 1 / samprate)\n",
    "\n",
    "plt.figure()\n",
    "plt.plot(t, waveforms[0].data, 'k')\n",
    "plt.plot(t, data_envelope.data, 'r')\n",
    "plt.title(waveforms[0].stats.starttime)\n",
    "plt.ylabel('Filtered Data w/ Envelope')\n",
    "plt.xlabel('Time [s]')\n",
    "plt.xlim(11, 11.2)\n",
    "plt.show()"
   ]
  },
  {
   "cell_type": "code",
   "execution_count": null,
   "id": "b7d29053",
   "metadata": {},
   "outputs": [],
   "source": []
  },
  {
   "cell_type": "code",
   "execution_count": null,
   "id": "23052f7e",
   "metadata": {},
   "outputs": [],
   "source": [
    "file_name = '/Users/gilaverbuch/dev/SHRU_programs/SHRU_24bit/05140537.D21'\n",
    "matlab_channel = np.loadtxt('/Users/gilaverbuch/dev/SHRU_programs/SHRU_24bit/channel1.scv')\n",
    "# Header = read_header()"
   ]
  },
  {
   "cell_type": "code",
   "execution_count": null,
   "id": "27cb5f61",
   "metadata": {
    "scrolled": false
   },
   "outputs": [],
   "source": [
    "samp_freq = 19531.25\n",
    "dt = 1/samp_freq\n",
    "time_m = np.arange(0, len(matlab_channel)*dt, dt)\n",
    "\n",
    "plt.figure(figsize = (15,5))\n",
    "plt.plot(time_m, matlab_channel*1e-4, 'r')\n",
    "\n",
    "plt.show()"
   ]
  },
  {
   "cell_type": "markdown",
   "id": "9bcc9046",
   "metadata": {},
   "source": [
    "# My python code"
   ]
  },
  {
   "cell_type": "code",
   "execution_count": null,
   "id": "788a5e00",
   "metadata": {},
   "outputs": [],
   "source": [
    "f_data = open(file_name, \"rb\")  # reopen the file\n",
    "x = f_data.read()"
   ]
  },
  {
   "cell_type": "code",
   "execution_count": null,
   "id": "1fd221a0",
   "metadata": {},
   "outputs": [],
   "source": [
    "xs = bytearray(b'\\x00\\x1b\\xcf')\n",
    "xs.append(0)\n",
    "print(xs)\n",
    "struct.unpack('>i', b'\\x00\\x1b\\xcf\\x00')[0], int.from_bytes(xs, byteorder='big', signed=True)"
   ]
  },
  {
   "cell_type": "code",
   "execution_count": null,
   "id": "d0018775",
   "metadata": {},
   "outputs": [],
   "source": [
    "pos = 1024\n",
    "l = (len(x[1024:])//128)\n",
    "npts = 1048576\n",
    "\n",
    "l1 = l*0\n",
    "l2 = l1+l\n",
    "def get_data(x, pos, l):\n",
    "    \n",
    "    data=[]\n",
    "    for loc in range(l1+pos,l2, 12):\n",
    "    \n",
    "        d = bytearray(x[loc:loc+3])\n",
    "        d.append(0)\n",
    "        dpoint = int.from_bytes(d, byteorder='big', signed=True) * (2.5/(2**23)/20)\n",
    "        data.append(dpoint)\n",
    "    \n",
    "    return data\n",
    "    \n",
    "    "
   ]
  },
  {
   "cell_type": "code",
   "execution_count": null,
   "id": "b809981a",
   "metadata": {},
   "outputs": [],
   "source": [
    "start = time.time()\n",
    "\n",
    "channel1 = get_data(x, pos, l)\n",
    "\n",
    "end  = time.time()\n",
    "print (\"Time elapsed:\", end - start)"
   ]
  },
  {
   "cell_type": "code",
   "execution_count": null,
   "id": "1e90e8c8",
   "metadata": {},
   "outputs": [],
   "source": [
    "len(matlab_channel) / len(channel1)"
   ]
  },
  {
   "cell_type": "code",
   "execution_count": null,
   "id": "47ea7d0a",
   "metadata": {},
   "outputs": [],
   "source": [
    "channel1 = np.asarray(channel1, dtype=np.float32)"
   ]
  },
  {
   "cell_type": "code",
   "execution_count": null,
   "id": "aee8f263",
   "metadata": {
    "scrolled": false
   },
   "outputs": [],
   "source": [
    "samp_freq = 19531.25\n",
    "dt = 1/samp_freq\n",
    "time_p = np.arange(0, len(channel1)*dt, dt)\n",
    "\n",
    "plt.figure(figsize = (15,5))\n",
    "plt.plot(time_p, channel1, 'g')\n",
    "# plt.plot(time_p, channel2*2.5e2, 'r')\n",
    "# plt.xlim(5.8,6)\n",
    "plt.show()"
   ]
  },
  {
   "cell_type": "code",
   "execution_count": null,
   "id": "9676ba6c",
   "metadata": {},
   "outputs": [],
   "source": [
    "f, t, Sxx = signal.spectrogram(channel1, samp_freq, nperseg=int(samp_freq), noverlap=int(samp_freq//2))\n",
    "plt.figure(figsize=(10,5))\n",
    "plt.pcolormesh(t, f, Sxx, shading='gouraud')\n",
    "plt.ylabel('Frequency [Hz]')\n",
    "plt.xlabel('Time [sec]')\n",
    "# plt.xlim(10,20)\n",
    "plt.ylim(0,200)\n",
    "# plt.clim(-10, -5)\n",
    "plt.colorbar()\n",
    "plt.title('from python')\n",
    "plt.show()"
   ]
  },
  {
   "cell_type": "markdown",
   "id": "4e586ff0",
   "metadata": {},
   "source": [
    "# Data from YT's matlab code"
   ]
  },
  {
   "cell_type": "code",
   "execution_count": null,
   "id": "4a1c12c3",
   "metadata": {},
   "outputs": [],
   "source": [
    "\n",
    "f, t, Sxx = signal.spectrogram(matlab_channel, samp_freq, nperseg=int(samp_freq), noverlap=int(samp_freq//2))\n",
    "plt.figure(figsize=(10,5))\n",
    "plt.pcolormesh(t, f, Sxx, shading='gouraud')\n",
    "plt.ylabel('Frequency [Hz]')\n",
    "plt.xlabel('Time [sec]')\n",
    "# plt.xlim(10,20)\n",
    "plt.ylim(0,200)\n",
    "plt.clim(0,1e-9)\n",
    "plt.colorbar()\n",
    "plt.title('from matlab')\n",
    "plt.show()"
   ]
  },
  {
   "cell_type": "code",
   "execution_count": null,
   "id": "9e06c4d0",
   "metadata": {},
   "outputs": [],
   "source": []
  },
  {
   "cell_type": "code",
   "execution_count": null,
   "id": "2c52f86d",
   "metadata": {},
   "outputs": [],
   "source": []
  },
  {
   "cell_type": "code",
   "execution_count": null,
   "id": "de6df485",
   "metadata": {},
   "outputs": [],
   "source": []
  }
 ],
 "metadata": {
  "kernelspec": {
   "display_name": "Python 3 (ipykernel)",
   "language": "python",
   "name": "python3"
  },
  "language_info": {
   "codemirror_mode": {
    "name": "ipython",
    "version": 3
   },
   "file_extension": ".py",
   "mimetype": "text/x-python",
   "name": "python",
   "nbconvert_exporter": "python",
   "pygments_lexer": "ipython3",
   "version": "3.10.6"
  }
 },
 "nbformat": 4,
 "nbformat_minor": 5
}
